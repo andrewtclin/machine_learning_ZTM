{
 "cells": [
  {
   "cell_type": "code",
   "execution_count": 1,
   "metadata": {},
   "outputs": [
    {
     "data": {
      "text/plain": [
       "'\\n3 Sections\\n    1. Data Collection\\n    2. Data modelling (6 Steps)\\n        a. Problem definition\\n        b. Data\\n        c. Evaluation\\n        d. Features\\n        e. Modelling\\n        f. Experiments -> Iterative process back to (a)\\n    3. Deployment\\n'"
      ]
     },
     "execution_count": 1,
     "metadata": {},
     "output_type": "execute_result"
    }
   ],
   "source": [
    "# Machine Learning \n",
    "\n",
    "'''\n",
    "3 Sections\n",
    "    1. Data Collection\n",
    "    2. Data modelling (6 Steps)\n",
    "        a. Problem definition\n",
    "        b. Data\n",
    "        c. Evaluation\n",
    "        d. Features\n",
    "        e. Modelling\n",
    "        f. Experiments -> Iterative process back to (a)\n",
    "    3. Deployment\n",
    "'''"
   ]
  },
  {
   "cell_type": "code",
   "execution_count": 2,
   "metadata": {},
   "outputs": [
    {
     "data": {
      "text/plain": [
       "'\\nHow could we improve? What can we try next?\\n'"
      ]
     },
     "execution_count": 2,
     "metadata": {},
     "output_type": "execute_result"
    }
   ],
   "source": [
    "# 2a. Problem Definition\n",
    "'''\n",
    "What problems are we trying to solve?\n",
    "    - Supervised\n",
    "    - Unsupervised\n",
    "    - Transfer Learning\n",
    "    - Reinforcement Learning\n",
    "'''\n",
    "\n",
    "# 2b. Data\n",
    "'''\n",
    "What kind of data do we have?\n",
    "    - Structured (Rows & Columns, CSV)\n",
    "    - Unstructured (Images, Audio)\n",
    "'''\n",
    "\n",
    "# 2c. Evaluation\n",
    "'''\n",
    "What defines success for us?\n",
    "    - House Data\n",
    "    - Machine Learning Model\n",
    "    - House Price\n",
    "    - At leat 95% accuracy\n",
    "'''\n",
    "\n",
    "# 2d. Features\n",
    "'''\n",
    "What do we already know about data?\n",
    "    - For example, predicting heart disease.\n",
    "        -> Body weight is a feature, it is a numerical feature.\n",
    "        -> Other features like categorical and derived\n",
    "    - Main goal is to turn the features into pattern\n",
    "'''\n",
    "\n",
    "# 2e. Modelling\n",
    "'''\n",
    "Based on our problem and data, what model should we use?\n",
    "'''\n",
    "\n",
    "# 2f. Experimentation\n",
    "'''\n",
    "How could we improve? What can we try next?\n",
    "'''"
   ]
  },
  {
   "cell_type": "code",
   "execution_count": 3,
   "metadata": {},
   "outputs": [
    {
     "data": {
      "text/plain": [
       "'\\nWill a simple hand-coded instruction based system work?\\n'"
      ]
     },
     "execution_count": 3,
     "metadata": {},
     "output_type": "execute_result"
    }
   ],
   "source": [
    "# When should NOT you use machine learning?\n",
    "'''\n",
    "Will a simple hand-coded instruction based system work?\n",
    "'''"
   ]
  },
  {
   "cell_type": "code",
   "execution_count": 4,
   "metadata": {},
   "outputs": [
    {
     "data": {
      "text/plain": [
       "'\\nMain types of Machine Learning\\n1. Supervised Learning\\n2. Unsupervised Learning\\n3. Transfer Learning\\n4. Reinforcement Learning\\n\\n    - Supervised Learning (Main Type: Classification & Regression)\\n        a. Classification\\n            - Two options: Binary Classification\\n            - More than 2: Multi-Class Classification\\n            \\n        b. Regression\\n            - Trying to predict a number. (eg. Price of the house)\\n            - \"How much will this house sell for?\"\\n            - \"How many people will by this app?\"\\n            \\n    - Unsupervised Learning\\n        - Data with NO label.\\n        - Find patterns in the data & Group the similar together.\\n        - WE provide the label\\n        - eg. Clustering\\n        \\n    - Transfer Learning\\n        - Use a model that another machine has learnt.\\n        - eg. Car finding model -> Dog breed finding model (Finetune it for your task)\\n        - Although the styles are different, but they use the same fundamentals.\\n        \\n    - Reinforcement Learning\\n        - Reward a computer or punish a computer for doing a task. (eg. +1 score or -1 score -> Maximize the score)\\n        - eg. Playing a chess game\\n        \\nFor \"Supervised Learning\", I know my inputs and outputs.\\nFor \"Unsupervised Learning\", I am not sure the outputs but I have the inputs.\\nFor \"Transfer Learning\", I think my problem may be similar to something else.\\n'"
      ]
     },
     "execution_count": 4,
     "metadata": {},
     "output_type": "execute_result"
    }
   ],
   "source": [
    "# 2a. Problem Definition\n",
    "'''\n",
    "Main types of Machine Learning\n",
    "1. Supervised Learning\n",
    "2. Unsupervised Learning\n",
    "3. Transfer Learning\n",
    "4. Reinforcement Learning\n",
    "\n",
    "    - Supervised Learning (Main Type: Classification & Regression)\n",
    "        a. Classification\n",
    "            - Two options: Binary Classification\n",
    "            - More than 2: Multi-Class Classification\n",
    "            \n",
    "        b. Regression\n",
    "            - Trying to predict a number. (eg. Price of the house)\n",
    "            - \"How much will this house sell for?\"\n",
    "            - \"How many people will by this app?\"\n",
    "            \n",
    "    - Unsupervised Learning\n",
    "        - Data with NO label.\n",
    "        - Find patterns in the data & Group the similar together.\n",
    "        - WE provide the label\n",
    "        - eg. Clustering\n",
    "        \n",
    "    - Transfer Learning\n",
    "        - Use a model that another machine has learnt.\n",
    "        - eg. Car finding model -> Dog breed finding model (Finetune it for your task)\n",
    "        - Although the styles are different, but they use the same fundamentals.\n",
    "        \n",
    "    - Reinforcement Learning\n",
    "        - Reward a computer or punish a computer for doing a task. (eg. +1 score or -1 score -> Maximize the score)\n",
    "        - eg. Playing a chess game\n",
    "        \n",
    "For \"Supervised Learning\", I know my inputs and outputs.\n",
    "For \"Unsupervised Learning\", I am not sure the outputs but I have the inputs.\n",
    "For \"Transfer Learning\", I think my problem may be similar to something else.\n",
    "'''"
   ]
  },
  {
   "cell_type": "code",
   "execution_count": null,
   "metadata": {},
   "outputs": [],
   "source": [
    "# 2b. Data\n",
    "'''\n",
    "What kind of data do we have?\n",
    "\n",
    "Main 2 types of Data:\n",
    "1. Structured Data\n",
    "2. Unstructured Data (Images, Natural Language Text)\n",
    "\n",
    "Within the 2 data types, there is \"Static\" and \"Streaming\" data.\n",
    "    - Static data is not going to change\n",
    "    - Streaming data is a data that is constantly changing over time.\n",
    "        - Stock price with news headline changes.\n",
    "        \n",
    "Data Science Workflow:\n",
    "1. Static Data\n",
    "2. Jupyter Notebook\n",
    "3. Pandas for Data Analysis\n",
    "4. Compare different data points with matplotlib\n",
    "5. Machine Learning model with scikit learn\n",
    "6. Predict the outcome of the problem\n",
    "'''"
   ]
  },
  {
   "cell_type": "code",
   "execution_count": null,
   "metadata": {},
   "outputs": [],
   "source": [
    "# 2c. Evaluation\n",
    "'''\n",
    "What defines success for us?\n",
    "    - For this project to be worth pursuing further, we need a machine learning model with over 99% accuracy. (Heart Disease)\n",
    "    \n",
    "Types of metrics for evaluation:\n",
    "1. Classification - Accuracy, Precision, Recall\n",
    "2. Regression (Predicting a number) - Mean Absolute Error (MAE), Mean Squared Error (MSE), Root Mean Squared Error (RMSE)\n",
    "3. Recommendation - Precision at K (to recommend top 10 products, K=10)\n",
    "\n",
    "For project: Classifying car insurance claims:\n",
    "    - We have datawith ID, Images, Text Description, Result\n",
    "    - Machine Learning Model\n",
    "    - They required at least > 95% Accuracy\n",
    "'''"
   ]
  },
  {
   "cell_type": "code",
   "execution_count": 5,
   "metadata": {},
   "outputs": [
    {
     "data": {
      "text/plain": [
       "'\\nWhat features should we model? \\nWhat do we already know about data?\\n\\nFor heart disease predictionFeature variables:\\n'"
      ]
     },
     "execution_count": 5,
     "metadata": {},
     "output_type": "execute_result"
    }
   ],
   "source": [
    "# 2d. Features in Data - Different forms of data within structured and unstructured data\n",
    "'''\n",
    "What features should we model? \n",
    "What do we already know about data?\n",
    "\n",
    "For heart disease prediction\n",
    "    - Feature variables: Weight, Sex, Heart Rate, Chest Pain\n",
    "    - Target variable: Heart disease (Yes or No)\n",
    "    \n",
    "Feature variables:\n",
    "    - Numerical Features (Weight, Heart Rate, Chest Pain)\n",
    "    - Categorical (Sex, Heart Disease, Visited Last Year(Derived))\n",
    "    \n",
    "Unstructured Data has features too, but less obvious:\n",
    "    - Dogs: Four legs, eyes\n",
    "    \n",
    "Features work best in ML model if MOST data have it. (Feature Coverage)\n",
    "'''"
   ]
  },
  {
   "cell_type": "code",
   "execution_count": null,
   "metadata": {},
   "outputs": [],
   "source": [
    "# 2e. Modelling\n",
    "'''\n",
    "Based on our problem and data, what model should we use?\n",
    "Generalization: The ability for a model to perform well on data it has not seen before.\n",
    "\n",
    "Part 1 - Choosing and Training a model (Training Data)\n",
    "    - Train, Validation, Test Sets: The 3 Sets (Data Splitting) - Avoid machine becoming 'memorization machine'\n",
    "        -> Train: Train your model with this set\n",
    "        -> Validation: Tune your model on this set\n",
    "        -> Test: Test and compare your model on this set.\n",
    "    \n",
    "    - Choosing a model:\n",
    "        - Structured Data\n",
    "            -> Decision Tree such as Random Forest, Gradient Boosting Algo like CatBoost and XG Boost tend to work best.\n",
    "        - Unstructured Data\n",
    "            -> Deep Learning and Transfer Learning tend to work best.\n",
    "            \n",
    "    - Training a model:\n",
    "        - Line up the inputs and outputs.\n",
    "        - Use X (data) to predict y (label)\n",
    "        - Goal: Minimize time between experiment\n",
    "        \n",
    "    * Start small and build up (add complexity) as you need.\n",
    "    * Different models work with different problems.\n",
    "    * Trial and Error\n",
    "\n",
    "Part 2 - Tuning a model (Validation Data)\n",
    "    - Model Tuning: Check its result and see if it can improve on validation.\n",
    "    \n",
    "    - Depending on the model you are using, different hyper parameters you can tune.\n",
    "        -> Eg. Random Forest: Adjust the number of trees.\n",
    "        -> Eg. Neural Networks: Adjust number of layers.\n",
    "    - Tuning can take place on training or validation data sets.\n",
    "    \n",
    "Part 3 - Model comparison (Test Data)\n",
    "    - How will our model perform in a real world?\n",
    "    \n",
    "    - OK: Training (98%), Test (96%)\n",
    "    - What you should worried about:\n",
    "        - Underfitting: Training set accuracy is dramatically higher than test set. \n",
    "            -> (eg. Data mismatch - different features)\n",
    "            -> Fixes: Try advanced model, increase hyperparameters, reduce amount of feautres, train longer.\n",
    "        - Overfitting: Test set accuracy is dramatically higher than training set. \n",
    "            -> (eg. Data leakage - Test into Train)\n",
    "            -> Fixes: Collect more data, try a less advanced model\n",
    "    - Model should fit JUST right.\n",
    "\n",
    "'''"
   ]
  },
  {
   "cell_type": "code",
   "execution_count": null,
   "metadata": {},
   "outputs": [],
   "source": [
    "# 2f. Experimental\n",
    "'''\n",
    "What have we tried?\n",
    "What else can we try?\n",
    "'''"
   ]
  }
 ],
 "metadata": {
  "kernelspec": {
   "display_name": "Python [conda env:data_science_playground]",
   "language": "python",
   "name": "conda-env-data_science_playground-py"
  },
  "language_info": {
   "codemirror_mode": {
    "name": "ipython",
    "version": 3
   },
   "file_extension": ".py",
   "mimetype": "text/x-python",
   "name": "python",
   "nbconvert_exporter": "python",
   "pygments_lexer": "ipython3",
   "version": "3.10.8"
  }
 },
 "nbformat": 4,
 "nbformat_minor": 4
}
